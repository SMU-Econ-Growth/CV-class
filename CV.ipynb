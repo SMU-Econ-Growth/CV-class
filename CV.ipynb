{
 "cells": [
  {
   "cell_type": "markdown",
   "id": "26012c6f-876f-4c41-b4fc-4ead12464699",
   "metadata": {
    "slideshow": {
     "slide_type": "slide"
    },
    "tags": [],
    "user_expressions": []
   },
   "source": [
    "# Dillinger"
   ]
  },
  {
   "cell_type": "markdown",
   "id": "2e2ec453-ddd2-4cf8-8e89-7268a2b0ebf3",
   "metadata": {
    "slideshow": {
     "slide_type": "fragment"
    },
    "tags": [],
    "user_expressions": []
   },
   "source": [
    "[![N|Solid](https://cldup.com/dTxpPi9lDf.thumb.png)](https://nodesource.com/products/nsolid)"
   ]
  },
  {
   "cell_type": "markdown",
   "id": "38190442-cfde-4a1f-bbdb-76b711237986",
   "metadata": {
    "slideshow": {
     "slide_type": "fragment"
    },
    "tags": [],
    "user_expressions": []
   },
   "source": [
    "[![Build Status](https://travis-ci.org/joemccann/dillinger.svg?branch=master)](https://travis-ci.org/joemccann/dillinger)"
   ]
  },
  {
   "cell_type": "markdown",
   "id": "20cdb053-9bb6-4302-8a17-d30786a0c101",
   "metadata": {
    "slideshow": {
     "slide_type": "slide"
    },
    "tags": [],
    "user_expressions": []
   },
   "source": [
    "Dillinger is a cloud-enabled, mobile-ready, offline-storage, AngularJS powered HTML5 Markdown editor."
   ]
  },
  {
   "cell_type": "markdown",
   "id": "e65d0831-0943-4e6b-a5d2-20515ccfc4dd",
   "metadata": {
    "slideshow": {
     "slide_type": "fragment"
    },
    "tags": [],
    "user_expressions": []
   },
   "source": [
    "  - Type some Markdown on the left"
   ]
  },
  {
   "cell_type": "markdown",
   "id": "cf842edb-e9df-46e0-b891-aff257a14ea3",
   "metadata": {
    "slideshow": {
     "slide_type": "fragment"
    },
    "tags": [],
    "user_expressions": []
   },
   "source": [
    "  - See HTML in the right"
   ]
  },
  {
   "cell_type": "markdown",
   "id": "28775cc0-d9c2-47ae-85ad-d6f74da4e1bd",
   "metadata": {
    "slideshow": {
     "slide_type": "fragment"
    },
    "tags": [],
    "user_expressions": []
   },
   "source": [
    "  - Magic"
   ]
  },
  {
   "cell_type": "markdown",
   "id": "6a113da3-17cd-4cd5-b7fd-0fa8e9afdbb3",
   "metadata": {
    "slideshow": {
     "slide_type": "slide"
    },
    "tags": [],
    "user_expressions": []
   },
   "source": [
    "# New Features!"
   ]
  },
  {
   "cell_type": "code",
   "execution_count": 2,
   "id": "6eb9349e",
   "metadata": {},
   "outputs": [
    {
     "data": {
      "text/plain": [
       "3"
      ]
     },
     "execution_count": 2,
     "metadata": {},
     "output_type": "execute_result"
    }
   ],
   "source": [
    "1+2"
   ]
  },
  {
   "cell_type": "markdown",
   "id": "6f206d0d-c818-43e8-aeaa-98c6ebba3a8c",
   "metadata": {
    "slideshow": {
     "slide_type": "-"
    },
    "tags": [],
    "user_expressions": []
   },
   "source": [
    "  - Import a HTML file and watch it magically convert to Markdown\n",
    "  - Drag and drop images (requires your Dropbox account be linked)"
   ]
  },
  {
   "cell_type": "markdown",
   "id": "4bb2dede-0e66-4440-9927-32e2233daddc",
   "metadata": {
    "slideshow": {
     "slide_type": "subslide"
    },
    "tags": [],
    "user_expressions": []
   },
   "source": [
    "You can also:"
   ]
  },
  {
   "cell_type": "markdown",
   "id": "47dac621-491e-4e6a-bc57-bea3ce2fe760",
   "metadata": {
    "slideshow": {
     "slide_type": "fragment"
    },
    "tags": [],
    "user_expressions": []
   },
   "source": [
    "  - Import and save files from GitHub, Dropbox, Google Drive and One Drive\n",
    "  - Drag and drop markdown and HTML files into Dillinger\n",
    "  - Export documents as Markdown, HTML and PDF"
   ]
  }
 ],
 "metadata": {
  "celltoolbar": "Slideshow",
  "kernelspec": {
   "display_name": "Python 3 (ipykernel)",
   "language": "python",
   "name": "python3"
  },
  "language_info": {
   "codemirror_mode": {
    "name": "ipython",
    "version": 3
   },
   "file_extension": ".py",
   "mimetype": "text/x-python",
   "name": "python",
   "nbconvert_exporter": "python",
   "pygments_lexer": "ipython3",
   "version": "3.9.13"
  },
  "nbTranslate": {
   "displayLangs": [
    "*"
   ],
   "hotkey": "alt-t",
   "langInMainMenu": true,
   "sourceLang": "en",
   "targetLang": "fr",
   "useGoogleTranslate": true
  },
  "widgets": {
   "application/vnd.jupyter.widget-state+json": {
    "state": {},
    "version_major": 2,
    "version_minor": 0
   }
  }
 },
 "nbformat": 4,
 "nbformat_minor": 5
}
